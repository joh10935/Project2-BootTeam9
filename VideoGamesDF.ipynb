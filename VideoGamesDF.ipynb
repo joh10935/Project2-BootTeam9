{
 "cells": [
  {
   "cell_type": "code",
   "execution_count": null,
   "id": "76e3486c",
   "metadata": {},
   "outputs": [],
   "source": [
    "# importing necessary dependencies\n",
    "import pandas as pd\n",
    "import datetime as dt\n",
    "import warnings\n",
    "import json\n",
    "import pymongo\n",
    "warnings.filterwarnings('ignore')"
   ]
  },
  {
   "cell_type": "code",
   "execution_count": null,
   "id": "ee334b25",
   "metadata": {},
   "outputs": [],
   "source": [
    "# The default port used by MongoDB is 27017\n",
    "# https://docs.mongodb.com/manual/reference/default-mongodb-port/\n",
    "conn = 'mongodb://localhost:27017'\n",
    "client = pymongo.MongoClient(conn)\n",
    "\n",
    "# Define the 'video_game_db' database in Mongo\n",
    "db = client.video_game_db\n",
    "\n",
    "# clear all contents\n",
    "db.destinations.delete_many({})"
   ]
  },
  {
   "cell_type": "code",
   "execution_count": null,
   "id": "9b7874c7",
   "metadata": {},
   "outputs": [],
   "source": [
    "# Import CSVs\n",
    "\n",
    "vg_sales = pd.read_csv(\"data/vgsales.csv\")\n",
    "salesDF = pd.DataFrame(vg_sales)\n",
    "\n",
    "vg_review = pd.read_csv(\"data/all_games.csv\")\n",
    "reviewDF = pd.DataFrame(vg_review)"
   ]
  },
  {
   "cell_type": "code",
   "execution_count": null,
   "id": "26cf821d",
   "metadata": {
    "scrolled": true
   },
   "outputs": [],
   "source": [
    "vg_sales.head(5)\n"
   ]
  },
  {
   "cell_type": "code",
   "execution_count": null,
   "id": "9c9e422b",
   "metadata": {
    "scrolled": true
   },
   "outputs": [],
   "source": [
    "# renaming name column in vs_review dataset to match salesDF so they can be joined on name column\n",
    "vg_review.head(5)\n",
    "vg_review.rename(columns={'name':'Name'}, inplace= True)"
   ]
  },
  {
   "cell_type": "code",
   "execution_count": null,
   "id": "a941a5e5",
   "metadata": {
    "scrolled": true
   },
   "outputs": [],
   "source": [
    "# Merge CSVs\n",
    "DF = pd.merge(salesDF, reviewDF, how= 'inner', on= \"Name\")\n",
    "DF.head()\n",
    "\n",
    "# Drop summary, Platform\n",
    "DF.drop(columns=['summary', 'Platform'], inplace= True)\n",
    "DF.head(2)"
   ]
  },
  {
   "cell_type": "code",
   "execution_count": null,
   "id": "abe99c57",
   "metadata": {},
   "outputs": [],
   "source": [
    "# Clean column names\n",
    "DF.rename(columns={'platform':'Platform', \n",
    "                  'release_date':'Release_Date', \n",
    "                  'meta_score': 'Meta_Score', \n",
    "                  'user_review': 'User_Review'},\n",
    "          inplace= True)\n",
    "\n",
    "\n",
    "# Convert Release_Date to datetime\n",
    "DF['Release_Date'] = DF['Release_Date'].astype('datetime64')\n",
    "DF.head(2)\n",
    "\n",
    "# Drop Year column\n",
    "DF.drop(columns=['Year'], inplace= True)\n",
    "DF.head(2)\n"
   ]
  },
  {
   "cell_type": "code",
   "execution_count": null,
   "id": "0eed09e4",
   "metadata": {},
   "outputs": [],
   "source": [
    "# Check for NaN values\n",
    "# DF.isnull().values.any()\n",
    "# DF.info()\n",
    "\n",
    "\n",
    "# Drop Nan values\n",
    "vg_DF = DF.dropna()\n",
    "vg_DF.isnull().sum()"
   ]
  },
  {
   "cell_type": "code",
   "execution_count": null,
   "id": "6dee9315",
   "metadata": {
    "scrolled": false
   },
   "outputs": [],
   "source": [
    "# Count duplicates if any\n",
    "vg_DF.duplicated(keep=False).sum()\n",
    "\n",
    "\n",
    "\n",
    "# Drop duplicates if any\n",
    "# none\n",
    "\n",
    "\n",
    "# Check column types for appropriate dtype\n",
    "# vg_DF.info()\n",
    "\n",
    "# Convert User_Review to float\n",
    "# Drop rows in User_review that has 'tbd'\n",
    "vg_DF.query('User_Review != \"tbd\"', inplace= True)\n",
    "\n",
    "\n",
    "\n",
    "# Convert User_Review to float\n",
    "# vg_DF['User_Review'].astype('float64')\n",
    "\n",
    "vg_DF['User_Review'] = vg_DF['User_Review'].astype(float)"
   ]
  },
  {
   "cell_type": "code",
   "execution_count": null,
   "id": "6a133b00",
   "metadata": {},
   "outputs": [],
   "source": [
    "# Split release_date column into 3 seperate columns (day, month, year)\n",
    "vg_DF['Release_Year'] = vg_DF['Release_Date'].dt.year\n",
    "vg_DF['Release_Month'] = vg_DF['Release_Date'].dt.month\n",
    "vg_DF['Release_Day'] = vg_DF['Release_Date'].dt.day\n",
    "\n",
    "\n",
    "vg_DF.head(2)"
   ]
  },
  {
   "cell_type": "code",
   "execution_count": null,
   "id": "4bfe128e",
   "metadata": {},
   "outputs": [],
   "source": [
    "# Reorder DF columns as desired\n",
    "\n",
    "\n",
    "video_gameData = vg_DF[['Rank',\n",
    "                      'Name', \n",
    "                      'Genre', \n",
    "                      'Publisher', \n",
    "                      'Platform', \n",
    "                      'Meta_Score', \n",
    "                      'User_Review', \n",
    "                      'Release_Date', \n",
    "                      'Release_Day', \n",
    "                      'Release_Month', \n",
    "                      'Release_Year', \n",
    "                      'Global_Sales', \n",
    "                      'NA_Sales', \n",
    "                      'EU_Sales', \n",
    "                      'JP_Sales', \n",
    "                      'Other_Sales']]\n",
    "video_gameData"
   ]
  },
  {
   "cell_type": "code",
   "execution_count": null,
   "id": "e1560f3e",
   "metadata": {},
   "outputs": [],
   "source": []
  }
 ],
 "metadata": {
  "kernelspec": {
   "display_name": "Python 3 (ipykernel)",
   "language": "python",
   "name": "python3"
  },
  "language_info": {
   "codemirror_mode": {
    "name": "ipython",
    "version": 3
   },
   "file_extension": ".py",
   "mimetype": "text/x-python",
   "name": "python",
   "nbconvert_exporter": "python",
   "pygments_lexer": "ipython3",
   "version": "3.9.12"
  }
 },
 "nbformat": 4,
 "nbformat_minor": 5
}
